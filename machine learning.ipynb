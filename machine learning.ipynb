{
 "cells": [
  {
   "cell_type": "markdown",
   "metadata": {},
   "source": [
    "#  PHONE MESSAGE SPAM ANALYSIS USING R\n"
   ]
  },
  {
   "cell_type": "markdown",
   "metadata": {},
   "source": [
    "As worldwide use of mobile phones has grown, a new avenue for electronic junk mail has been opened for disreputable marketers. These advertisers utilize Short Message Service (SMS) text messages to target potential consumers with unwanted advertising known as SMS spam. This type of spam is particularly troublesome because, unlike email spam, many cellular phone users pay a fee per SMS received. Developing a classification algorithm that could filter SMS spam would provide a useful tool for cellular phone providers. Since naive Bayes has been used successfully for email spam filtering, it seems likely that it could also be applied to SMS spam. However, relative to email spam, SMS spam poses additional challenges for automated filters. SMS messages are often limited to 160 characters, reducing the amount of text that can be used to identify whether a message is junk. The limit, combined with small mobile phone keyboards, has led many to adopt a form of SMS shorthand lingo, which further blurs the line between legitimate messages and spam. \n"
   ]
  },
  {
   "cell_type": "markdown",
   "metadata": {},
   "source": [
    "## STEP 1- Collecting Data\n"
   ]
  },
  {
   "cell_type": "markdown",
   "metadata": {},
   "source": [
    "##### To develop the *MACHINE LEARNING MODEL*, we will use data adapted from the SMS Spam Collection at       http://www.dt.fee.unicamp.br/~tiago/smsspamcollection/. \n",
    "This dataset includes the text of SMS messages along with a label indicating whether the message is unwanted.Junk messages are labeled spam, while legitimate messages are labeled ham.\n",
    "\n",
    "Some examples of spam and ham are shown in the following example: \n",
    "\n",
    "###### The following is a sample ham message\n",
    "\n",
    "*Better. Made up for Friday and stuffed myself like a pig yesterday. Now I feel bleh. But at least its not writhing pain kind of bleh.*\n",
    "\n",
    "###### The following is a sample spam message\n",
    "\n",
    "*Congratulations ur awarded 500 of CD vouchers or 125gift guaranteed & Free entry 2 100 wkly draw txt MUSIC to 87066*"
   ]
  },
  {
   "cell_type": "markdown",
   "metadata": {},
   "source": [
    "## STEP 2- Exploring and preparing the data"
   ]
  },
  {
   "cell_type": "markdown",
   "metadata": {},
   "source": [
    "The first step towards constructing our *machine learning model* involves *processing the raw data for analysis*. Text data are challenging to prepare because it is necessary to transform the words and sentences into a form that a computer can understand. We will transform our data into a representation known as *bag-of-words*, which ignores the order that words appear in and simply provides a variable indicating whether the word appears at all."
   ]
  },
  {
   "cell_type": "markdown",
   "metadata": {},
   "source": [
    "###### Importing the data set\n",
    "the data is present in csv format so we will use the function *read.csv()* to import the data"
   ]
  },
  {
   "cell_type": "code",
   "execution_count": 1,
   "metadata": {},
   "outputs": [],
   "source": [
    "text=read.csv(\"F:/Machine Learning/spam.csv\",stringsAsFactors=FALSE)"
   ]
  },
  {
   "cell_type": "code",
   "execution_count": 2,
   "metadata": {},
   "outputs": [
    {
     "name": "stdout",
     "output_type": "stream",
     "text": [
      "'data.frame':\t5572 obs. of  5 variables:\n",
      " $ v1 : chr  \"ham\" \"ham\" \"spam\" \"ham\" ...\n",
      " $ v2 : chr  \"Go until jurong point, crazy.. Available only in bugis n great world la e buffet... Cine there got amore wat...\" \"Ok lar... Joking wif u oni...\" \"Free entry in 2 a wkly comp to win FA Cup final tkts 21st May 2005. Text FA to 87121 to receive entry question(\"| __truncated__ \"U dun say so early hor... U c already then say...\" ...\n",
      " $ X  : chr  \"\" \"\" \"\" \"\" ...\n",
      " $ X.1: chr  \"\" \"\" \"\" \"\" ...\n",
      " $ X.2: chr  \"\" \"\" \"\" \"\" ...\n"
     ]
    }
   ],
   "source": [
    "str(text)"
   ]
  },
  {
   "cell_type": "code",
   "execution_count": 3,
   "metadata": {},
   "outputs": [
    {
     "data": {
      "text/html": [
       "<table>\n",
       "<thead><tr><th scope=col>v1</th><th scope=col>v2</th><th scope=col>X</th><th scope=col>X.1</th><th scope=col>X.2</th></tr></thead>\n",
       "<tbody>\n",
       "\t<tr><td>ham                                                                                                                                                        </td><td>Go until jurong point, crazy.. Available only in bugis n great world la e buffet... Cine there got amore wat...                                            </td><td>                                                                                                                                                           </td><td>                                                                                                                                                           </td><td>                                                                                                                                                           </td></tr>\n",
       "\t<tr><td>ham                                                                                                                                                        </td><td>Ok lar... Joking wif u oni...                                                                                                                              </td><td>                                                                                                                                                           </td><td>                                                                                                                                                           </td><td>                                                                                                                                                           </td></tr>\n",
       "\t<tr><td>spam                                                                                                                                                           </td><td>Free entry in 2 a wkly comp to win FA Cup final tkts 21st May 2005. Text FA to 87121 to receive entry question(std txt rate)T&amp;C's apply 08452810075over18's</td><td>                                                                                                                                                               </td><td>                                                                                                                                                               </td><td>                                                                                                                                                               </td></tr>\n",
       "\t<tr><td>ham                                                                                                                                                        </td><td>U dun say so early hor... U c already then say...                                                                                                          </td><td>                                                                                                                                                           </td><td>                                                                                                                                                           </td><td>                                                                                                                                                           </td></tr>\n",
       "\t<tr><td>ham                                                                                                                                                        </td><td>Nah I don't think he goes to usf, he lives around here though                                                                                              </td><td>                                                                                                                                                           </td><td>                                                                                                                                                           </td><td>                                                                                                                                                           </td></tr>\n",
       "\t<tr><td>spam                                                                                                                                                       </td><td>FreeMsg Hey there darling it's been 3 week's now and no word back! I'd like some fun you up for it still? Tb ok! XxX std chgs to send, å£1.50 to rcv       </td><td>                                                                                                                                                           </td><td>                                                                                                                                                           </td><td>                                                                                                                                                           </td></tr>\n",
       "</tbody>\n",
       "</table>\n"
      ],
      "text/latex": [
       "\\begin{tabular}{r|lllll}\n",
       " v1 & v2 & X & X.1 & X.2\\\\\n",
       "\\hline\n",
       "\t ham                                                                                                                                                         & Go until jurong point, crazy.. Available only in bugis n great world la e buffet... Cine there got amore wat...                                             &                                                                                                                                                             &                                                                                                                                                             &                                                                                                                                                            \\\\\n",
       "\t ham                                                                                                                                                         & Ok lar... Joking wif u oni...                                                                                                                               &                                                                                                                                                             &                                                                                                                                                             &                                                                                                                                                            \\\\\n",
       "\t spam                                                                                                                                                          & Free entry in 2 a wkly comp to win FA Cup final tkts 21st May 2005. Text FA to 87121 to receive entry question(std txt rate)T\\&C's apply 08452810075over18's &                                                                                                                                                               &                                                                                                                                                               &                                                                                                                                                              \\\\\n",
       "\t ham                                                                                                                                                         & U dun say so early hor... U c already then say...                                                                                                           &                                                                                                                                                             &                                                                                                                                                             &                                                                                                                                                            \\\\\n",
       "\t ham                                                                                                                                                         & Nah I don't think he goes to usf, he lives around here though                                                                                               &                                                                                                                                                             &                                                                                                                                                             &                                                                                                                                                            \\\\\n",
       "\t spam                                                                                                                                                        & FreeMsg Hey there darling it's been 3 week's now and no word back! I'd like some fun you up for it still? Tb ok! XxX std chgs to send, å£1.50 to rcv        &                                                                                                                                                             &                                                                                                                                                             &                                                                                                                                                            \\\\\n",
       "\\end{tabular}\n"
      ],
      "text/markdown": [
       "\n",
       "| v1 | v2 | X | X.1 | X.2 |\n",
       "|---|---|---|---|---|\n",
       "| ham                                                                                                                                                         | Go until jurong point, crazy.. Available only in bugis n great world la e buffet... Cine there got amore wat...                                             |                                                                                                                                                             |                                                                                                                                                             |                                                                                                                                                             |\n",
       "| ham                                                                                                                                                         | Ok lar... Joking wif u oni...                                                                                                                               |                                                                                                                                                             |                                                                                                                                                             |                                                                                                                                                             |\n",
       "| spam                                                                                                                                                        | Free entry in 2 a wkly comp to win FA Cup final tkts 21st May 2005. Text FA to 87121 to receive entry question(std txt rate)T&C's apply 08452810075over18's |                                                                                                                                                             |                                                                                                                                                             |                                                                                                                                                             |\n",
       "| ham                                                                                                                                                         | U dun say so early hor... U c already then say...                                                                                                           |                                                                                                                                                             |                                                                                                                                                             |                                                                                                                                                             |\n",
       "| ham                                                                                                                                                         | Nah I don't think he goes to usf, he lives around here though                                                                                               |                                                                                                                                                             |                                                                                                                                                             |                                                                                                                                                             |\n",
       "| spam                                                                                                                                                        | FreeMsg Hey there darling it's been 3 week's now and no word back! I'd like some fun you up for it still? Tb ok! XxX std chgs to send, å£1.50 to rcv        |                                                                                                                                                             |                                                                                                                                                             |                                                                                                                                                             |\n",
       "\n"
      ],
      "text/plain": [
       "  v1  \n",
       "1 ham \n",
       "2 ham \n",
       "3 spam\n",
       "4 ham \n",
       "5 ham \n",
       "6 spam\n",
       "  v2                                                                                                                                                         \n",
       "1 Go until jurong point, crazy.. Available only in bugis n great world la e buffet... Cine there got amore wat...                                            \n",
       "2 Ok lar... Joking wif u oni...                                                                                                                              \n",
       "3 Free entry in 2 a wkly comp to win FA Cup final tkts 21st May 2005. Text FA to 87121 to receive entry question(std txt rate)T&C's apply 08452810075over18's\n",
       "4 U dun say so early hor... U c already then say...                                                                                                          \n",
       "5 Nah I don't think he goes to usf, he lives around here though                                                                                              \n",
       "6 FreeMsg Hey there darling it's been 3 week's now and no word back! I'd like some fun you up for it still? Tb ok! XxX std chgs to send, å£1.50 to rcv       \n",
       "  X X.1 X.2\n",
       "1          \n",
       "2          \n",
       "3          \n",
       "4          \n",
       "5          \n",
       "6          "
      ]
     },
     "metadata": {},
     "output_type": "display_data"
    }
   ],
   "source": [
    "head(text)"
   ]
  },
  {
   "cell_type": "code",
   "execution_count": 4,
   "metadata": {},
   "outputs": [
    {
     "data": {
      "text/html": [
       "<table>\n",
       "<thead><tr><th></th><th scope=col>v1</th><th scope=col>v2</th><th scope=col>X</th><th scope=col>X.1</th><th scope=col>X.2</th></tr></thead>\n",
       "<tbody>\n",
       "\t<tr><th scope=row>5567</th><td>spam                                                                                                                                                             </td><td>REMINDER FROM O2: To get 2.50 pounds free call credit and details of great offers pls reply 2 this text with your valid name, house no and postcode              </td><td>                                                                                                                                                                 </td><td>                                                                                                                                                                 </td><td>                                                                                                                                                                 </td></tr>\n",
       "\t<tr><th scope=row>5568</th><td>spam                                                                                                                                                             </td><td>This is the 2nd time we have tried 2 contact u. U have won the å£750 Pound prize. 2 claim is easy, call 087187272008 NOW1! Only 10p per minute. BT-national-rate.</td><td>                                                                                                                                                                 </td><td>                                                                                                                                                                 </td><td>                                                                                                                                                                 </td></tr>\n",
       "\t<tr><th scope=row>5569</th><td>ham                                                                                                                                                              </td><td>Will Ì_ b going to esplanade fr home?                                                                                                                            </td><td>                                                                                                                                                                 </td><td>                                                                                                                                                                 </td><td>                                                                                                                                                                 </td></tr>\n",
       "\t<tr><th scope=row>5570</th><td>ham                                                                                                                                                              </td><td>Pity, * was in mood for that. So...any other suggestions?                                                                                                        </td><td>                                                                                                                                                                 </td><td>                                                                                                                                                                 </td><td>                                                                                                                                                                 </td></tr>\n",
       "\t<tr><th scope=row>5571</th><td>ham                                                                                                                                                              </td><td>The guy did some bitching but I acted like i'd be interested in buying something else next week and he gave it to us for free                                    </td><td>                                                                                                                                                                 </td><td>                                                                                                                                                                 </td><td>                                                                                                                                                                 </td></tr>\n",
       "\t<tr><th scope=row>5572</th><td>ham                                                                                                                                                              </td><td>Rofl. Its true to its name                                                                                                                                       </td><td>                                                                                                                                                                 </td><td>                                                                                                                                                                 </td><td>                                                                                                                                                                 </td></tr>\n",
       "</tbody>\n",
       "</table>\n"
      ],
      "text/latex": [
       "\\begin{tabular}{r|lllll}\n",
       "  & v1 & v2 & X & X.1 & X.2\\\\\n",
       "\\hline\n",
       "\t5567 & spam                                                                                                                                                              & REMINDER FROM O2: To get 2.50 pounds free call credit and details of great offers pls reply 2 this text with your valid name, house no and postcode               &                                                                                                                                                                   &                                                                                                                                                                   &                                                                                                                                                                  \\\\\n",
       "\t5568 & spam                                                                                                                                                              & This is the 2nd time we have tried 2 contact u. U have won the å£750 Pound prize. 2 claim is easy, call 087187272008 NOW1! Only 10p per minute. BT-national-rate. &                                                                                                                                                                   &                                                                                                                                                                   &                                                                                                                                                                  \\\\\n",
       "\t5569 & ham                                                                                                                                                                 & Will Ì\\_ b going to esplanade fr home?                                                                                                                             &                                                                                                                                                                     &                                                                                                                                                                     &                                                                                                                                                                    \\\\\n",
       "\t5570 & ham                                                                                                                                                               & Pity, * was in mood for that. So...any other suggestions?                                                                                                         &                                                                                                                                                                   &                                                                                                                                                                   &                                                                                                                                                                  \\\\\n",
       "\t5571 & ham                                                                                                                                                               & The guy did some bitching but I acted like i'd be interested in buying something else next week and he gave it to us for free                                     &                                                                                                                                                                   &                                                                                                                                                                   &                                                                                                                                                                  \\\\\n",
       "\t5572 & ham                                                                                                                                                               & Rofl. Its true to its name                                                                                                                                        &                                                                                                                                                                   &                                                                                                                                                                   &                                                                                                                                                                  \\\\\n",
       "\\end{tabular}\n"
      ],
      "text/markdown": [
       "\n",
       "| <!--/--> | v1 | v2 | X | X.1 | X.2 |\n",
       "|---|---|---|---|---|---|\n",
       "| 5567 | spam                                                                                                                                                              | REMINDER FROM O2: To get 2.50 pounds free call credit and details of great offers pls reply 2 this text with your valid name, house no and postcode               |                                                                                                                                                                   |                                                                                                                                                                   |                                                                                                                                                                   |\n",
       "| 5568 | spam                                                                                                                                                              | This is the 2nd time we have tried 2 contact u. U have won the å£750 Pound prize. 2 claim is easy, call 087187272008 NOW1! Only 10p per minute. BT-national-rate. |                                                                                                                                                                   |                                                                                                                                                                   |                                                                                                                                                                   |\n",
       "| 5569 | ham                                                                                                                                                               | Will Ì_ b going to esplanade fr home?                                                                                                                             |                                                                                                                                                                   |                                                                                                                                                                   |                                                                                                                                                                   |\n",
       "| 5570 | ham                                                                                                                                                               | Pity, * was in mood for that. So...any other suggestions?                                                                                                         |                                                                                                                                                                   |                                                                                                                                                                   |                                                                                                                                                                   |\n",
       "| 5571 | ham                                                                                                                                                               | The guy did some bitching but I acted like i'd be interested in buying something else next week and he gave it to us for free                                     |                                                                                                                                                                   |                                                                                                                                                                   |                                                                                                                                                                   |\n",
       "| 5572 | ham                                                                                                                                                               | Rofl. Its true to its name                                                                                                                                        |                                                                                                                                                                   |                                                                                                                                                                   |                                                                                                                                                                   |\n",
       "\n"
      ],
      "text/plain": [
       "     v1  \n",
       "5567 spam\n",
       "5568 spam\n",
       "5569 ham \n",
       "5570 ham \n",
       "5571 ham \n",
       "5572 ham \n",
       "     v2                                                                                                                                                               \n",
       "5567 REMINDER FROM O2: To get 2.50 pounds free call credit and details of great offers pls reply 2 this text with your valid name, house no and postcode              \n",
       "5568 This is the 2nd time we have tried 2 contact u. U have won the å£750 Pound prize. 2 claim is easy, call 087187272008 NOW1! Only 10p per minute. BT-national-rate.\n",
       "5569 Will Ì_ b going to esplanade fr home?                                                                                                                            \n",
       "5570 Pity, * was in mood for that. So...any other suggestions?                                                                                                        \n",
       "5571 The guy did some bitching but I acted like i'd be interested in buying something else next week and he gave it to us for free                                    \n",
       "5572 Rofl. Its true to its name                                                                                                                                       \n",
       "     X X.1 X.2\n",
       "5567          \n",
       "5568          \n",
       "5569          \n",
       "5570          \n",
       "5571          \n",
       "5572          "
      ]
     },
     "metadata": {},
     "output_type": "display_data"
    }
   ],
   "source": [
    "tail(text)"
   ]
  },
  {
   "cell_type": "code",
   "execution_count": 5,
   "metadata": {},
   "outputs": [],
   "source": [
    "text$v1=factor(text$v1)"
   ]
  },
  {
   "cell_type": "code",
   "execution_count": 6,
   "metadata": {},
   "outputs": [
    {
     "name": "stdout",
     "output_type": "stream",
     "text": [
      " Factor w/ 2 levels \"ham\",\"spam\": 1 1 2 1 1 2 1 1 2 2 ...\n"
     ]
    }
   ],
   "source": [
    "str(text$v1)"
   ]
  },
  {
   "cell_type": "code",
   "execution_count": 7,
   "metadata": {
    "scrolled": false
   },
   "outputs": [
    {
     "data": {
      "text/plain": [
       "\n",
       " ham spam \n",
       "4825  747 "
      ]
     },
     "metadata": {},
     "output_type": "display_data"
    }
   ],
   "source": [
    "table(text$v1)"
   ]
  },
  {
   "cell_type": "markdown",
   "metadata": {},
   "source": [
    "##### Importing package tm\n",
    "It is a text mining package which provides easy access to preprocessing and manipulation mechanisms such as whitespace removal, stemming, or stopword deletion. "
   ]
  },
  {
   "cell_type": "code",
   "execution_count": 10,
   "metadata": {},
   "outputs": [],
   "source": [
    "library(tm)"
   ]
  },
  {
   "cell_type": "markdown",
   "metadata": {},
   "source": [
    "The first step in processing text data involves creating a corpus, which refers to a collection of text documents. In our project, a text document refers to a single SMS message. We'll build a corpus containing the SMS messages in the training data using the following command: "
   ]
  },
  {
   "cell_type": "code",
   "execution_count": 11,
   "metadata": {},
   "outputs": [],
   "source": [
    "text_corpus= Corpus(VectorSource(text$v2)) "
   ]
  },
  {
   "cell_type": "code",
   "execution_count": 12,
   "metadata": {
    "scrolled": true
   },
   "outputs": [
    {
     "name": "stdout",
     "output_type": "stream",
     "text": [
      "<<SimpleCorpus>>\n",
      "Metadata:  corpus specific: 1, document level (indexed): 0\n",
      "Content:  documents: 5572\n"
     ]
    }
   ],
   "source": [
    "print(text_corpus)"
   ]
  },
  {
   "cell_type": "code",
   "execution_count": 13,
   "metadata": {},
   "outputs": [
    {
     "name": "stdout",
     "output_type": "stream",
     "text": [
      "<<SimpleCorpus>>\n",
      "Metadata:  corpus specific: 1, document level (indexed): 0\n",
      "Content:  documents: 3\n",
      "\n",
      "[1] Go until jurong point, crazy.. Available only in bugis n great world la e buffet... Cine there got amore wat...                                            \n",
      "[2] Ok lar... Joking wif u oni...                                                                                                                              \n",
      "[3] Free entry in 2 a wkly comp to win FA Cup final tkts 21st May 2005. Text FA to 87121 to receive entry question(std txt rate)T&C's apply 08452810075over18's\n"
     ]
    }
   ],
   "source": [
    "inspect(text_corpus[1:3])"
   ]
  },
  {
   "cell_type": "markdown",
   "metadata": {},
   "source": [
    "Before splitting the text into words, we will need to perform some common cleaning steps in order to remove punctuation and other characters that may clutter the result. For example, we would like to count hello!, HELLO..., and Hello as instances of the word hello"
   ]
  },
  {
   "cell_type": "markdown",
   "metadata": {},
   "source": [
    "*The function tm_map() provides a method for transforming (that is, mapping) a tm corpus. We will use this to clean up our corpus using a series of transformation functions, and save the result in a new object called clean*"
   ]
  },
  {
   "cell_type": "markdown",
   "metadata": {},
   "source": [
    "First, we will convert all of the SMS messages to lowercase and remove any numbers:\n"
   ]
  },
  {
   "cell_type": "code",
   "execution_count": 15,
   "metadata": {
    "collapsed": true
   },
   "outputs": [
    {
     "name": "stderr",
     "output_type": "stream",
     "text": [
      "Warning message in tm_map.SimpleCorpus(text_corpus, tolower):\n",
      "\"transformation drops documents\""
     ]
    }
   ],
   "source": [
    "clean=tm_map(text_corpus,tolower)"
   ]
  },
  {
   "cell_type": "markdown",
   "metadata": {},
   "source": [
    "Now we will remove numbers from the corpus\n"
   ]
  },
  {
   "cell_type": "code",
   "execution_count": 16,
   "metadata": {
    "collapsed": true
   },
   "outputs": [
    {
     "name": "stderr",
     "output_type": "stream",
     "text": [
      "Warning message in tm_map.SimpleCorpus(clean, removeNumbers):\n",
      "\"transformation drops documents\""
     ]
    }
   ],
   "source": [
    "clean=tm_map(clean,removeNumbers)"
   ]
  },
  {
   "cell_type": "markdown",
   "metadata": {},
   "source": [
    "*A common practice when analyzing text data is to remove filler words such as to, and, but, and or. These are known as stop words. Rather than define a list of stop words ourselves, we will use the stopwords() function provided by the tm package. It contains a set of numerous stop words. To see them all, type stopwords() at the command line. As we did before, we'll use the* tm_map() *function to apply this function to the data*"
   ]
  },
  {
   "cell_type": "markdown",
   "metadata": {},
   "source": [
    "\n",
    "\n",
    "Below are the stop words which are included in tm package"
   ]
  },
  {
   "cell_type": "code",
   "execution_count": 17,
   "metadata": {},
   "outputs": [
    {
     "data": {
      "text/html": [
       "<ol class=list-inline>\n",
       "\t<li>'i'</li>\n",
       "\t<li>'me'</li>\n",
       "\t<li>'my'</li>\n",
       "\t<li>'myself'</li>\n",
       "\t<li>'we'</li>\n",
       "\t<li>'our'</li>\n",
       "\t<li>'ours'</li>\n",
       "\t<li>'ourselves'</li>\n",
       "\t<li>'you'</li>\n",
       "\t<li>'your'</li>\n",
       "\t<li>'yours'</li>\n",
       "\t<li>'yourself'</li>\n",
       "\t<li>'yourselves'</li>\n",
       "\t<li>'he'</li>\n",
       "\t<li>'him'</li>\n",
       "\t<li>'his'</li>\n",
       "\t<li>'himself'</li>\n",
       "\t<li>'she'</li>\n",
       "\t<li>'her'</li>\n",
       "\t<li>'hers'</li>\n",
       "\t<li>'herself'</li>\n",
       "\t<li>'it'</li>\n",
       "\t<li>'its'</li>\n",
       "\t<li>'itself'</li>\n",
       "\t<li>'they'</li>\n",
       "\t<li>'them'</li>\n",
       "\t<li>'their'</li>\n",
       "\t<li>'theirs'</li>\n",
       "\t<li>'themselves'</li>\n",
       "\t<li>'what'</li>\n",
       "\t<li>'which'</li>\n",
       "\t<li>'who'</li>\n",
       "\t<li>'whom'</li>\n",
       "\t<li>'this'</li>\n",
       "\t<li>'that'</li>\n",
       "\t<li>'these'</li>\n",
       "\t<li>'those'</li>\n",
       "\t<li>'am'</li>\n",
       "\t<li>'is'</li>\n",
       "\t<li>'are'</li>\n",
       "\t<li>'was'</li>\n",
       "\t<li>'were'</li>\n",
       "\t<li>'be'</li>\n",
       "\t<li>'been'</li>\n",
       "\t<li>'being'</li>\n",
       "\t<li>'have'</li>\n",
       "\t<li>'has'</li>\n",
       "\t<li>'had'</li>\n",
       "\t<li>'having'</li>\n",
       "\t<li>'do'</li>\n",
       "\t<li>'does'</li>\n",
       "\t<li>'did'</li>\n",
       "\t<li>'doing'</li>\n",
       "\t<li>'would'</li>\n",
       "\t<li>'should'</li>\n",
       "\t<li>'could'</li>\n",
       "\t<li>'ought'</li>\n",
       "\t<li>'i\\'m'</li>\n",
       "\t<li>'you\\'re'</li>\n",
       "\t<li>'he\\'s'</li>\n",
       "\t<li>'she\\'s'</li>\n",
       "\t<li>'it\\'s'</li>\n",
       "\t<li>'we\\'re'</li>\n",
       "\t<li>'they\\'re'</li>\n",
       "\t<li>'i\\'ve'</li>\n",
       "\t<li>'you\\'ve'</li>\n",
       "\t<li>'we\\'ve'</li>\n",
       "\t<li>'they\\'ve'</li>\n",
       "\t<li>'i\\'d'</li>\n",
       "\t<li>'you\\'d'</li>\n",
       "\t<li>'he\\'d'</li>\n",
       "\t<li>'she\\'d'</li>\n",
       "\t<li>'we\\'d'</li>\n",
       "\t<li>'they\\'d'</li>\n",
       "\t<li>'i\\'ll'</li>\n",
       "\t<li>'you\\'ll'</li>\n",
       "\t<li>'he\\'ll'</li>\n",
       "\t<li>'she\\'ll'</li>\n",
       "\t<li>'we\\'ll'</li>\n",
       "\t<li>'they\\'ll'</li>\n",
       "\t<li>'isn\\'t'</li>\n",
       "\t<li>'aren\\'t'</li>\n",
       "\t<li>'wasn\\'t'</li>\n",
       "\t<li>'weren\\'t'</li>\n",
       "\t<li>'hasn\\'t'</li>\n",
       "\t<li>'haven\\'t'</li>\n",
       "\t<li>'hadn\\'t'</li>\n",
       "\t<li>'doesn\\'t'</li>\n",
       "\t<li>'don\\'t'</li>\n",
       "\t<li>'didn\\'t'</li>\n",
       "\t<li>'won\\'t'</li>\n",
       "\t<li>'wouldn\\'t'</li>\n",
       "\t<li>'shan\\'t'</li>\n",
       "\t<li>'shouldn\\'t'</li>\n",
       "\t<li>'can\\'t'</li>\n",
       "\t<li>'cannot'</li>\n",
       "\t<li>'couldn\\'t'</li>\n",
       "\t<li>'mustn\\'t'</li>\n",
       "\t<li>'let\\'s'</li>\n",
       "\t<li>'that\\'s'</li>\n",
       "\t<li>'who\\'s'</li>\n",
       "\t<li>'what\\'s'</li>\n",
       "\t<li>'here\\'s'</li>\n",
       "\t<li>'there\\'s'</li>\n",
       "\t<li>'when\\'s'</li>\n",
       "\t<li>'where\\'s'</li>\n",
       "\t<li>'why\\'s'</li>\n",
       "\t<li>'how\\'s'</li>\n",
       "\t<li>'a'</li>\n",
       "\t<li>'an'</li>\n",
       "\t<li>'the'</li>\n",
       "\t<li>'and'</li>\n",
       "\t<li>'but'</li>\n",
       "\t<li>'if'</li>\n",
       "\t<li>'or'</li>\n",
       "\t<li>'because'</li>\n",
       "\t<li>'as'</li>\n",
       "\t<li>'until'</li>\n",
       "\t<li>'while'</li>\n",
       "\t<li>'of'</li>\n",
       "\t<li>'at'</li>\n",
       "\t<li>'by'</li>\n",
       "\t<li>'for'</li>\n",
       "\t<li>'with'</li>\n",
       "\t<li>'about'</li>\n",
       "\t<li>'against'</li>\n",
       "\t<li>'between'</li>\n",
       "\t<li>'into'</li>\n",
       "\t<li>'through'</li>\n",
       "\t<li>'during'</li>\n",
       "\t<li>'before'</li>\n",
       "\t<li>'after'</li>\n",
       "\t<li>'above'</li>\n",
       "\t<li>'below'</li>\n",
       "\t<li>'to'</li>\n",
       "\t<li>'from'</li>\n",
       "\t<li>'up'</li>\n",
       "\t<li>'down'</li>\n",
       "\t<li>'in'</li>\n",
       "\t<li>'out'</li>\n",
       "\t<li>'on'</li>\n",
       "\t<li>'off'</li>\n",
       "\t<li>'over'</li>\n",
       "\t<li>'under'</li>\n",
       "\t<li>'again'</li>\n",
       "\t<li>'further'</li>\n",
       "\t<li>'then'</li>\n",
       "\t<li>'once'</li>\n",
       "\t<li>'here'</li>\n",
       "\t<li>'there'</li>\n",
       "\t<li>'when'</li>\n",
       "\t<li>'where'</li>\n",
       "\t<li>'why'</li>\n",
       "\t<li>'how'</li>\n",
       "\t<li>'all'</li>\n",
       "\t<li>'any'</li>\n",
       "\t<li>'both'</li>\n",
       "\t<li>'each'</li>\n",
       "\t<li>'few'</li>\n",
       "\t<li>'more'</li>\n",
       "\t<li>'most'</li>\n",
       "\t<li>'other'</li>\n",
       "\t<li>'some'</li>\n",
       "\t<li>'such'</li>\n",
       "\t<li>'no'</li>\n",
       "\t<li>'nor'</li>\n",
       "\t<li>'not'</li>\n",
       "\t<li>'only'</li>\n",
       "\t<li>'own'</li>\n",
       "\t<li>'same'</li>\n",
       "\t<li>'so'</li>\n",
       "\t<li>'than'</li>\n",
       "\t<li>'too'</li>\n",
       "\t<li>'very'</li>\n",
       "</ol>\n"
      ],
      "text/latex": [
       "\\begin{enumerate*}\n",
       "\\item 'i'\n",
       "\\item 'me'\n",
       "\\item 'my'\n",
       "\\item 'myself'\n",
       "\\item 'we'\n",
       "\\item 'our'\n",
       "\\item 'ours'\n",
       "\\item 'ourselves'\n",
       "\\item 'you'\n",
       "\\item 'your'\n",
       "\\item 'yours'\n",
       "\\item 'yourself'\n",
       "\\item 'yourselves'\n",
       "\\item 'he'\n",
       "\\item 'him'\n",
       "\\item 'his'\n",
       "\\item 'himself'\n",
       "\\item 'she'\n",
       "\\item 'her'\n",
       "\\item 'hers'\n",
       "\\item 'herself'\n",
       "\\item 'it'\n",
       "\\item 'its'\n",
       "\\item 'itself'\n",
       "\\item 'they'\n",
       "\\item 'them'\n",
       "\\item 'their'\n",
       "\\item 'theirs'\n",
       "\\item 'themselves'\n",
       "\\item 'what'\n",
       "\\item 'which'\n",
       "\\item 'who'\n",
       "\\item 'whom'\n",
       "\\item 'this'\n",
       "\\item 'that'\n",
       "\\item 'these'\n",
       "\\item 'those'\n",
       "\\item 'am'\n",
       "\\item 'is'\n",
       "\\item 'are'\n",
       "\\item 'was'\n",
       "\\item 'were'\n",
       "\\item 'be'\n",
       "\\item 'been'\n",
       "\\item 'being'\n",
       "\\item 'have'\n",
       "\\item 'has'\n",
       "\\item 'had'\n",
       "\\item 'having'\n",
       "\\item 'do'\n",
       "\\item 'does'\n",
       "\\item 'did'\n",
       "\\item 'doing'\n",
       "\\item 'would'\n",
       "\\item 'should'\n",
       "\\item 'could'\n",
       "\\item 'ought'\n",
       "\\item 'i\\textbackslash{}'m'\n",
       "\\item 'you\\textbackslash{}'re'\n",
       "\\item 'he\\textbackslash{}'s'\n",
       "\\item 'she\\textbackslash{}'s'\n",
       "\\item 'it\\textbackslash{}'s'\n",
       "\\item 'we\\textbackslash{}'re'\n",
       "\\item 'they\\textbackslash{}'re'\n",
       "\\item 'i\\textbackslash{}'ve'\n",
       "\\item 'you\\textbackslash{}'ve'\n",
       "\\item 'we\\textbackslash{}'ve'\n",
       "\\item 'they\\textbackslash{}'ve'\n",
       "\\item 'i\\textbackslash{}'d'\n",
       "\\item 'you\\textbackslash{}'d'\n",
       "\\item 'he\\textbackslash{}'d'\n",
       "\\item 'she\\textbackslash{}'d'\n",
       "\\item 'we\\textbackslash{}'d'\n",
       "\\item 'they\\textbackslash{}'d'\n",
       "\\item 'i\\textbackslash{}'ll'\n",
       "\\item 'you\\textbackslash{}'ll'\n",
       "\\item 'he\\textbackslash{}'ll'\n",
       "\\item 'she\\textbackslash{}'ll'\n",
       "\\item 'we\\textbackslash{}'ll'\n",
       "\\item 'they\\textbackslash{}'ll'\n",
       "\\item 'isn\\textbackslash{}'t'\n",
       "\\item 'aren\\textbackslash{}'t'\n",
       "\\item 'wasn\\textbackslash{}'t'\n",
       "\\item 'weren\\textbackslash{}'t'\n",
       "\\item 'hasn\\textbackslash{}'t'\n",
       "\\item 'haven\\textbackslash{}'t'\n",
       "\\item 'hadn\\textbackslash{}'t'\n",
       "\\item 'doesn\\textbackslash{}'t'\n",
       "\\item 'don\\textbackslash{}'t'\n",
       "\\item 'didn\\textbackslash{}'t'\n",
       "\\item 'won\\textbackslash{}'t'\n",
       "\\item 'wouldn\\textbackslash{}'t'\n",
       "\\item 'shan\\textbackslash{}'t'\n",
       "\\item 'shouldn\\textbackslash{}'t'\n",
       "\\item 'can\\textbackslash{}'t'\n",
       "\\item 'cannot'\n",
       "\\item 'couldn\\textbackslash{}'t'\n",
       "\\item 'mustn\\textbackslash{}'t'\n",
       "\\item 'let\\textbackslash{}'s'\n",
       "\\item 'that\\textbackslash{}'s'\n",
       "\\item 'who\\textbackslash{}'s'\n",
       "\\item 'what\\textbackslash{}'s'\n",
       "\\item 'here\\textbackslash{}'s'\n",
       "\\item 'there\\textbackslash{}'s'\n",
       "\\item 'when\\textbackslash{}'s'\n",
       "\\item 'where\\textbackslash{}'s'\n",
       "\\item 'why\\textbackslash{}'s'\n",
       "\\item 'how\\textbackslash{}'s'\n",
       "\\item 'a'\n",
       "\\item 'an'\n",
       "\\item 'the'\n",
       "\\item 'and'\n",
       "\\item 'but'\n",
       "\\item 'if'\n",
       "\\item 'or'\n",
       "\\item 'because'\n",
       "\\item 'as'\n",
       "\\item 'until'\n",
       "\\item 'while'\n",
       "\\item 'of'\n",
       "\\item 'at'\n",
       "\\item 'by'\n",
       "\\item 'for'\n",
       "\\item 'with'\n",
       "\\item 'about'\n",
       "\\item 'against'\n",
       "\\item 'between'\n",
       "\\item 'into'\n",
       "\\item 'through'\n",
       "\\item 'during'\n",
       "\\item 'before'\n",
       "\\item 'after'\n",
       "\\item 'above'\n",
       "\\item 'below'\n",
       "\\item 'to'\n",
       "\\item 'from'\n",
       "\\item 'up'\n",
       "\\item 'down'\n",
       "\\item 'in'\n",
       "\\item 'out'\n",
       "\\item 'on'\n",
       "\\item 'off'\n",
       "\\item 'over'\n",
       "\\item 'under'\n",
       "\\item 'again'\n",
       "\\item 'further'\n",
       "\\item 'then'\n",
       "\\item 'once'\n",
       "\\item 'here'\n",
       "\\item 'there'\n",
       "\\item 'when'\n",
       "\\item 'where'\n",
       "\\item 'why'\n",
       "\\item 'how'\n",
       "\\item 'all'\n",
       "\\item 'any'\n",
       "\\item 'both'\n",
       "\\item 'each'\n",
       "\\item 'few'\n",
       "\\item 'more'\n",
       "\\item 'most'\n",
       "\\item 'other'\n",
       "\\item 'some'\n",
       "\\item 'such'\n",
       "\\item 'no'\n",
       "\\item 'nor'\n",
       "\\item 'not'\n",
       "\\item 'only'\n",
       "\\item 'own'\n",
       "\\item 'same'\n",
       "\\item 'so'\n",
       "\\item 'than'\n",
       "\\item 'too'\n",
       "\\item 'very'\n",
       "\\end{enumerate*}\n"
      ],
      "text/markdown": [
       "1. 'i'\n",
       "2. 'me'\n",
       "3. 'my'\n",
       "4. 'myself'\n",
       "5. 'we'\n",
       "6. 'our'\n",
       "7. 'ours'\n",
       "8. 'ourselves'\n",
       "9. 'you'\n",
       "10. 'your'\n",
       "11. 'yours'\n",
       "12. 'yourself'\n",
       "13. 'yourselves'\n",
       "14. 'he'\n",
       "15. 'him'\n",
       "16. 'his'\n",
       "17. 'himself'\n",
       "18. 'she'\n",
       "19. 'her'\n",
       "20. 'hers'\n",
       "21. 'herself'\n",
       "22. 'it'\n",
       "23. 'its'\n",
       "24. 'itself'\n",
       "25. 'they'\n",
       "26. 'them'\n",
       "27. 'their'\n",
       "28. 'theirs'\n",
       "29. 'themselves'\n",
       "30. 'what'\n",
       "31. 'which'\n",
       "32. 'who'\n",
       "33. 'whom'\n",
       "34. 'this'\n",
       "35. 'that'\n",
       "36. 'these'\n",
       "37. 'those'\n",
       "38. 'am'\n",
       "39. 'is'\n",
       "40. 'are'\n",
       "41. 'was'\n",
       "42. 'were'\n",
       "43. 'be'\n",
       "44. 'been'\n",
       "45. 'being'\n",
       "46. 'have'\n",
       "47. 'has'\n",
       "48. 'had'\n",
       "49. 'having'\n",
       "50. 'do'\n",
       "51. 'does'\n",
       "52. 'did'\n",
       "53. 'doing'\n",
       "54. 'would'\n",
       "55. 'should'\n",
       "56. 'could'\n",
       "57. 'ought'\n",
       "58. 'i\\'m'\n",
       "59. 'you\\'re'\n",
       "60. 'he\\'s'\n",
       "61. 'she\\'s'\n",
       "62. 'it\\'s'\n",
       "63. 'we\\'re'\n",
       "64. 'they\\'re'\n",
       "65. 'i\\'ve'\n",
       "66. 'you\\'ve'\n",
       "67. 'we\\'ve'\n",
       "68. 'they\\'ve'\n",
       "69. 'i\\'d'\n",
       "70. 'you\\'d'\n",
       "71. 'he\\'d'\n",
       "72. 'she\\'d'\n",
       "73. 'we\\'d'\n",
       "74. 'they\\'d'\n",
       "75. 'i\\'ll'\n",
       "76. 'you\\'ll'\n",
       "77. 'he\\'ll'\n",
       "78. 'she\\'ll'\n",
       "79. 'we\\'ll'\n",
       "80. 'they\\'ll'\n",
       "81. 'isn\\'t'\n",
       "82. 'aren\\'t'\n",
       "83. 'wasn\\'t'\n",
       "84. 'weren\\'t'\n",
       "85. 'hasn\\'t'\n",
       "86. 'haven\\'t'\n",
       "87. 'hadn\\'t'\n",
       "88. 'doesn\\'t'\n",
       "89. 'don\\'t'\n",
       "90. 'didn\\'t'\n",
       "91. 'won\\'t'\n",
       "92. 'wouldn\\'t'\n",
       "93. 'shan\\'t'\n",
       "94. 'shouldn\\'t'\n",
       "95. 'can\\'t'\n",
       "96. 'cannot'\n",
       "97. 'couldn\\'t'\n",
       "98. 'mustn\\'t'\n",
       "99. 'let\\'s'\n",
       "100. 'that\\'s'\n",
       "101. 'who\\'s'\n",
       "102. 'what\\'s'\n",
       "103. 'here\\'s'\n",
       "104. 'there\\'s'\n",
       "105. 'when\\'s'\n",
       "106. 'where\\'s'\n",
       "107. 'why\\'s'\n",
       "108. 'how\\'s'\n",
       "109. 'a'\n",
       "110. 'an'\n",
       "111. 'the'\n",
       "112. 'and'\n",
       "113. 'but'\n",
       "114. 'if'\n",
       "115. 'or'\n",
       "116. 'because'\n",
       "117. 'as'\n",
       "118. 'until'\n",
       "119. 'while'\n",
       "120. 'of'\n",
       "121. 'at'\n",
       "122. 'by'\n",
       "123. 'for'\n",
       "124. 'with'\n",
       "125. 'about'\n",
       "126. 'against'\n",
       "127. 'between'\n",
       "128. 'into'\n",
       "129. 'through'\n",
       "130. 'during'\n",
       "131. 'before'\n",
       "132. 'after'\n",
       "133. 'above'\n",
       "134. 'below'\n",
       "135. 'to'\n",
       "136. 'from'\n",
       "137. 'up'\n",
       "138. 'down'\n",
       "139. 'in'\n",
       "140. 'out'\n",
       "141. 'on'\n",
       "142. 'off'\n",
       "143. 'over'\n",
       "144. 'under'\n",
       "145. 'again'\n",
       "146. 'further'\n",
       "147. 'then'\n",
       "148. 'once'\n",
       "149. 'here'\n",
       "150. 'there'\n",
       "151. 'when'\n",
       "152. 'where'\n",
       "153. 'why'\n",
       "154. 'how'\n",
       "155. 'all'\n",
       "156. 'any'\n",
       "157. 'both'\n",
       "158. 'each'\n",
       "159. 'few'\n",
       "160. 'more'\n",
       "161. 'most'\n",
       "162. 'other'\n",
       "163. 'some'\n",
       "164. 'such'\n",
       "165. 'no'\n",
       "166. 'nor'\n",
       "167. 'not'\n",
       "168. 'only'\n",
       "169. 'own'\n",
       "170. 'same'\n",
       "171. 'so'\n",
       "172. 'than'\n",
       "173. 'too'\n",
       "174. 'very'\n",
       "\n",
       "\n"
      ],
      "text/plain": [
       "  [1] \"i\"          \"me\"         \"my\"         \"myself\"     \"we\"        \n",
       "  [6] \"our\"        \"ours\"       \"ourselves\"  \"you\"        \"your\"      \n",
       " [11] \"yours\"      \"yourself\"   \"yourselves\" \"he\"         \"him\"       \n",
       " [16] \"his\"        \"himself\"    \"she\"        \"her\"        \"hers\"      \n",
       " [21] \"herself\"    \"it\"         \"its\"        \"itself\"     \"they\"      \n",
       " [26] \"them\"       \"their\"      \"theirs\"     \"themselves\" \"what\"      \n",
       " [31] \"which\"      \"who\"        \"whom\"       \"this\"       \"that\"      \n",
       " [36] \"these\"      \"those\"      \"am\"         \"is\"         \"are\"       \n",
       " [41] \"was\"        \"were\"       \"be\"         \"been\"       \"being\"     \n",
       " [46] \"have\"       \"has\"        \"had\"        \"having\"     \"do\"        \n",
       " [51] \"does\"       \"did\"        \"doing\"      \"would\"      \"should\"    \n",
       " [56] \"could\"      \"ought\"      \"i'm\"        \"you're\"     \"he's\"      \n",
       " [61] \"she's\"      \"it's\"       \"we're\"      \"they're\"    \"i've\"      \n",
       " [66] \"you've\"     \"we've\"      \"they've\"    \"i'd\"        \"you'd\"     \n",
       " [71] \"he'd\"       \"she'd\"      \"we'd\"       \"they'd\"     \"i'll\"      \n",
       " [76] \"you'll\"     \"he'll\"      \"she'll\"     \"we'll\"      \"they'll\"   \n",
       " [81] \"isn't\"      \"aren't\"     \"wasn't\"     \"weren't\"    \"hasn't\"    \n",
       " [86] \"haven't\"    \"hadn't\"     \"doesn't\"    \"don't\"      \"didn't\"    \n",
       " [91] \"won't\"      \"wouldn't\"   \"shan't\"     \"shouldn't\"  \"can't\"     \n",
       " [96] \"cannot\"     \"couldn't\"   \"mustn't\"    \"let's\"      \"that's\"    \n",
       "[101] \"who's\"      \"what's\"     \"here's\"     \"there's\"    \"when's\"    \n",
       "[106] \"where's\"    \"why's\"      \"how's\"      \"a\"          \"an\"        \n",
       "[111] \"the\"        \"and\"        \"but\"        \"if\"         \"or\"        \n",
       "[116] \"because\"    \"as\"         \"until\"      \"while\"      \"of\"        \n",
       "[121] \"at\"         \"by\"         \"for\"        \"with\"       \"about\"     \n",
       "[126] \"against\"    \"between\"    \"into\"       \"through\"    \"during\"    \n",
       "[131] \"before\"     \"after\"      \"above\"      \"below\"      \"to\"        \n",
       "[136] \"from\"       \"up\"         \"down\"       \"in\"         \"out\"       \n",
       "[141] \"on\"         \"off\"        \"over\"       \"under\"      \"again\"     \n",
       "[146] \"further\"    \"then\"       \"once\"       \"here\"       \"there\"     \n",
       "[151] \"when\"       \"where\"      \"why\"        \"how\"        \"all\"       \n",
       "[156] \"any\"        \"both\"       \"each\"       \"few\"        \"more\"      \n",
       "[161] \"most\"       \"other\"      \"some\"       \"such\"       \"no\"        \n",
       "[166] \"nor\"        \"not\"        \"only\"       \"own\"        \"same\"      \n",
       "[171] \"so\"         \"than\"       \"too\"        \"very\"      "
      ]
     },
     "metadata": {},
     "output_type": "display_data"
    }
   ],
   "source": [
    "stopwords()"
   ]
  },
  {
   "cell_type": "code",
   "execution_count": 18,
   "metadata": {
    "collapsed": true
   },
   "outputs": [
    {
     "name": "stderr",
     "output_type": "stream",
     "text": [
      "Warning message in tm_map.SimpleCorpus(clean, removeWords, stopwords()):\n",
      "\"transformation drops documents\""
     ]
    }
   ],
   "source": [
    "clean=tm_map(clean,removeWords,stopwords())"
   ]
  },
  {
   "cell_type": "markdown",
   "metadata": {},
   "source": [
    "We'll also remove punctuation:\n"
   ]
  },
  {
   "cell_type": "code",
   "execution_count": 19,
   "metadata": {
    "collapsed": true
   },
   "outputs": [
    {
     "name": "stderr",
     "output_type": "stream",
     "text": [
      "Warning message in tm_map.SimpleCorpus(clean, removePunctuation):\n",
      "\"transformation drops documents\""
     ]
    }
   ],
   "source": [
    "clean=tm_map(clean,removePunctuation)"
   ]
  },
  {
   "cell_type": "markdown",
   "metadata": {},
   "source": [
    "Now that we have removed numbers, stop words, and punctuation, the text messages are left with blank spaces where these characters used to be. The last step then is to remove additional whitespace, leaving only a single space between words.\n"
   ]
  },
  {
   "cell_type": "code",
   "execution_count": 20,
   "metadata": {
    "collapsed": true
   },
   "outputs": [
    {
     "name": "stderr",
     "output_type": "stream",
     "text": [
      "Warning message in tm_map.SimpleCorpus(clean, stripWhitespace):\n",
      "\"transformation drops documents\""
     ]
    }
   ],
   "source": [
    "clean=tm_map(clean,stripWhitespace)"
   ]
  },
  {
   "cell_type": "code",
   "execution_count": 21,
   "metadata": {
    "collapsed": true
   },
   "outputs": [
    {
     "name": "stderr",
     "output_type": "stream",
     "text": [
      "Warning message in tm_map.SimpleCorpus(clean, stemDocument):\n",
      "\"transformation drops documents\""
     ]
    }
   ],
   "source": [
    "clean=tm_map(clean,stemDocument)"
   ]
  },
  {
   "cell_type": "markdown",
   "metadata": {},
   "source": [
    "### Comparision b/w data before and after cleaning"
   ]
  },
  {
   "cell_type": "markdown",
   "metadata": {},
   "source": [
    "#### Text before cleaning "
   ]
  },
  {
   "cell_type": "code",
   "execution_count": 22,
   "metadata": {
    "scrolled": true
   },
   "outputs": [
    {
     "name": "stdout",
     "output_type": "stream",
     "text": [
      "<<SimpleCorpus>>\n",
      "Metadata:  corpus specific: 1, document level (indexed): 0\n",
      "Content:  documents: 3\n",
      "\n",
      "[1] Go until jurong point, crazy.. Available only in bugis n great world la e buffet... Cine there got amore wat...                                            \n",
      "[2] Ok lar... Joking wif u oni...                                                                                                                              \n",
      "[3] Free entry in 2 a wkly comp to win FA Cup final tkts 21st May 2005. Text FA to 87121 to receive entry question(std txt rate)T&C's apply 08452810075over18's\n"
     ]
    }
   ],
   "source": [
    "inspect(text_corpus[1:3])"
   ]
  },
  {
   "cell_type": "markdown",
   "metadata": {},
   "source": [
    "#### Text After Cleaning"
   ]
  },
  {
   "cell_type": "code",
   "execution_count": 23,
   "metadata": {},
   "outputs": [
    {
     "name": "stdout",
     "output_type": "stream",
     "text": [
      "<<SimpleCorpus>>\n",
      "Metadata:  corpus specific: 1, document level (indexed): 0\n",
      "Content:  documents: 3\n",
      "\n",
      "[1] go jurong point crazi avail bugi n great world la e buffet cine got amor wat                         \n",
      "[2] ok lar joke wif u oni                                                                                \n",
      "[3] free entri wkli comp win fa cup final tkts st may text fa receiv entri questionstd txt ratetc appli s\n"
     ]
    }
   ],
   "source": [
    "inspect(clean[1:3])"
   ]
  },
  {
   "cell_type": "markdown",
   "metadata": {},
   "source": [
    "### Tokenization "
   ]
  },
  {
   "cell_type": "markdown",
   "metadata": {},
   "source": [
    "Now that the data are processed to our liking, the final step is to split the messages into individual components through a process called tokenization. A token is a single element of a text string; in this case, the tokens are words.\n",
    "\n",
    "As you might assume, the tm package provides functionality to tokenize the SMS message corpus. The DocumentTermMatrix() function will take a corpus and create a data structure called a sparse matrix, in which the rows of the matrix indicate documents (that is, SMS messages) and the columns indicate terms (that is, words). Each cell in the matrix stores a number indicating a count of the times the word indicated by the column appears in the document indicated by the row. "
   ]
  },
  {
   "cell_type": "code",
   "execution_count": 24,
   "metadata": {},
   "outputs": [],
   "source": [
    "dtm=DocumentTermMatrix(clean)"
   ]
  },
  {
   "cell_type": "code",
   "execution_count": 25,
   "metadata": {},
   "outputs": [
    {
     "data": {
      "text/plain": [
       "<<DocumentTermMatrix (documents: 5572, terms: 6546)>>\n",
       "Non-/sparse entries: 42700/36431612\n",
       "Sparsity           : 100%\n",
       "Maximal term length: 40\n",
       "Weighting          : term frequency (tf)"
      ]
     },
     "metadata": {},
     "output_type": "display_data"
    }
   ],
   "source": [
    "dtm\n"
   ]
  },
  {
   "cell_type": "code",
   "execution_count": 48,
   "metadata": {},
   "outputs": [
    {
     "data": {
      "text/plain": [
       "<<DocumentTermMatrix (documents: 5572, terms: 7)>>\n",
       "Non-/sparse entries: 2840/36164\n",
       "Sparsity           : 93%\n",
       "Maximal term length: 4\n",
       "Weighting          : term frequency (tf)"
      ]
     },
     "metadata": {},
     "output_type": "display_data"
    }
   ],
   "source": [
    "spdtm = removeSparseTerms(dtm, 0.95)\n",
    "spdtm\n",
    "textd = as.data.frame(as.matrix(spdtm))\n",
    "colnames(textd) = make.names(colnames(textd))\n",
    "textd$spam = text$v1\n",
    "textd$spam = as.factor(textd$spam)"
   ]
  },
  {
   "cell_type": "markdown",
   "metadata": {},
   "source": [
    "# Visualizing Data using wordclouds"
   ]
  },
  {
   "cell_type": "markdown",
   "metadata": {},
   "source": [
    "A word cloud is a way to visually depict the frequency at which words appear in text data. The cloud is made up of words scattered somewhat randomly around the figure. Words appearing more often in the text are shown in a larger font, while less common terms are shown in smaller fonts. This type of figure has grown in popularity recently since it provides a way to observe trending topics on social media websites."
   ]
  },
  {
   "cell_type": "code",
   "execution_count": 27,
   "metadata": {},
   "outputs": [],
   "source": [
    "library(wordcloud)"
   ]
  },
  {
   "cell_type": "markdown",
   "metadata": {},
   "source": [
    "## Wordcloud for the data set"
   ]
  },
  {
   "cell_type": "code",
   "execution_count": 29,
   "metadata": {
    "scrolled": true
   },
   "outputs": [
    {
     "data": {
      "image/png": "[encoded data removed]",
      "text/plain": [
       "plot without title"
      ]
     },
     "metadata": {},
     "output_type": "display_data"
    }
   ],
   "source": [
    "wordcloud(clean, min.freq = 40, random.order = FALSE) "
   ]
  },
  {
   "cell_type": "markdown",
   "metadata": {},
   "source": [
    "## Wordcloud for spam messages"
   ]
  },
  {
   "cell_type": "code",
   "execution_count": 46,
   "metadata": {
    "scrolled": true
   },
   "outputs": [
    {
     "data": {
      "image/png": "[encoded data removed]",
      "text/plain": [
       "plot without title"
      ]
     },
     "metadata": {},
     "output_type": "display_data"
    }
   ],
   "source": [
    "spam = subset(text, v1 == \"spam\")\n",
    "spam=Corpus(VectorSource(spam$v2))\n",
    "wordcloud(spam, max.words = 40, scale = c(4,1),random.order=FALSE) "
   ]
  },
  {
   "cell_type": "markdown",
   "metadata": {},
   "source": [
    "## Wordcloud for ham messages"
   ]
  },
  {
   "cell_type": "code",
   "execution_count": 47,
   "metadata": {
    "scrolled": true
   },
   "outputs": [
    {
     "data": {
      "image/png": "[encoded data removed]",
      "text/plain": [
       "plot without title"
      ]
     },
     "metadata": {},
     "output_type": "display_data"
    }
   ],
   "source": [
    "ham =subset(text, v1== \"ham\")\n",
    "ham=Corpus(VectorSource(ham$v2))\n",
    "wordcloud(ham, max.words = 40, scale = c(4, 1),random.order = FALSE) "
   ]
  },
  {
   "cell_type": "markdown",
   "metadata": {},
   "source": [
    "## Spliting the dataset\n",
    "Creating Training and Testing Datasets"
   ]
  },
  {
   "cell_type": "code",
   "execution_count": 68,
   "metadata": {},
   "outputs": [],
   "source": [
    "library(caTools)\n",
    "set.seed(123)\n",
    "spl <- sample.split(textd$spam, 0.7)\n",
    "train <- subset(textd, spl == TRUE)\n",
    "test <- subset(textd,spl==FALSE)"
   ]
  },
  {
   "cell_type": "markdown",
   "metadata": {},
   "source": [
    "# Step-3 Building Machine Learning Models"
   ]
  },
  {
   "cell_type": "markdown",
   "metadata": {},
   "source": [
    "## Building a Naive Bayes Classifier\n",
    "\n",
    "In machine learning, naïve Bayes classifiers are a family of simple \"probabilistic classifiers\" based on applying Bayes' theorem with strong (naïve) independence assumptions between the features. They are among the simplest Bayesian network models. "
   ]
  },
  {
   "cell_type": "code",
   "execution_count": 69,
   "metadata": {},
   "outputs": [],
   "source": [
    "library(e1071)\n",
    "sms_classifier<- naiveBayes(train,train$spam,laplace=1)\n",
    "sms_pred <- predict(sms_classifier,test)"
   ]
  },
  {
   "cell_type": "markdown",
   "metadata": {},
   "source": [
    "## Building a SVM Model\n",
    "\n",
    "In machine learning, support-vector machines (SVMs, also support-vector networks) are supervised learning models with associated learning algorithms that analyze data used for classification and regression analysis. Given a set of training examples, each marked as belonging to one or the other of two categories, an SVM training algorithm builds a model that assigns new examples to one category or the other, making it a non-probabilistic binary linear classifier"
   ]
  },
  {
   "cell_type": "code",
   "execution_count": 97,
   "metadata": {},
   "outputs": [],
   "source": [
    "model_svm<-svm(as.factor(train$spam)~.,data=train)\n",
    "pred_svm<-predict(model_svm,test)"
   ]
  },
  {
   "cell_type": "markdown",
   "metadata": {},
   "source": [
    "## Building a Decision Tree Model\n",
    "\n",
    "Decision Trees are a class of very powerful Machine Learning model cable of achieving high accuracy in many tasks while being highly interpretable. What makes decision trees special in the realm of ML models is really their clarity of information representation."
   ]
  },
  {
   "cell_type": "code",
   "execution_count": 99,
   "metadata": {},
   "outputs": [],
   "source": [
    "library(rpart)\n",
    "model_dtree<-rpart(train$spam~.,method='class',data=train,parms = list (split = 'information'))\n",
    "pred<-predict(model_dtree,test,type=c(\"class\"))"
   ]
  },
  {
   "cell_type": "markdown",
   "metadata": {},
   "source": [
    "## Building a Logistic Regression Model\n",
    "Logistic Regression In R. It is a technique to analyse a data-set which has a dependent variable and one or more independent variables to predict the outcome in a binary variable, meaning it will have only two outcomes. The dependent variable is categorical in nature"
   ]
  },
  {
   "cell_type": "code",
   "execution_count": 100,
   "metadata": {},
   "outputs": [],
   "source": [
    "mylogit <- glm(train$spam ~., data = train, family = \"binomial\")\n",
    "p<-predict(mylogit, newdata=test, type=\"response\")"
   ]
  },
  {
   "cell_type": "markdown",
   "metadata": {},
   "source": [
    "# Evaluating and Comparing Models\n"
   ]
  },
  {
   "cell_type": "markdown",
   "metadata": {},
   "source": [
    "### Checking the accuracy using crosstable"
   ]
  },
  {
   "cell_type": "markdown",
   "metadata": {},
   "source": [
    "#### Naive Bayes Model"
   ]
  },
  {
   "cell_type": "code",
   "execution_count": 101,
   "metadata": {},
   "outputs": [
    {
     "name": "stdout",
     "output_type": "stream",
     "text": [
      "\n",
      " \n",
      "   Cell Contents\n",
      "|-------------------------|\n",
      "|                       N |\n",
      "|           N / Row Total |\n",
      "|           N / Col Total |\n",
      "|-------------------------|\n",
      "\n",
      " \n",
      "Total Observations in Table:  1671 \n",
      "\n",
      " \n",
      "             | Actual \n",
      "   Predicted |       ham |      spam | Row Total | \n",
      "-------------|-----------|-----------|-----------|\n",
      "         ham |      1416 |         5 |      1421 | \n",
      "             |     0.996 |     0.004 |     0.850 | \n",
      "             |     0.979 |     0.022 |           | \n",
      "-------------|-----------|-----------|-----------|\n",
      "        spam |        31 |       219 |       250 | \n",
      "             |     0.124 |     0.876 |     0.150 | \n",
      "             |     0.021 |     0.978 |           | \n",
      "-------------|-----------|-----------|-----------|\n",
      "Column Total |      1447 |       224 |      1671 | \n",
      "             |     0.866 |     0.134 |           | \n",
      "-------------|-----------|-----------|-----------|\n",
      "\n",
      " \n"
     ]
    }
   ],
   "source": [
    "library(gmodels)\n",
    "CrossTable(sms_pred,test$spam,prop.chisq = FALSE, chisq = FALSE,prop.t = FALSE,dnn = c(\"Predicted\", \"Actual\"))"
   ]
  },
  {
   "cell_type": "markdown",
   "metadata": {},
   "source": [
    "The Naive Bayes model performs with nearly 97 percent accuracy , as we can see in the cross table 97.9 percent of the actual ham messages of the testing data are classified as ham and 97.8 percent of the spam messages of testing data are classified as spam by the naive bayes classifier ,hence we can say that it does classification nicely"
   ]
  },
  {
   "cell_type": "markdown",
   "metadata": {},
   "source": [
    "#### SVM Model"
   ]
  },
  {
   "cell_type": "code",
   "execution_count": 72,
   "metadata": {},
   "outputs": [
    {
     "name": "stdout",
     "output_type": "stream",
     "text": [
      "\n",
      " \n",
      "   Cell Contents\n",
      "|-------------------------|\n",
      "|                       N |\n",
      "|           N / Row Total |\n",
      "|           N / Col Total |\n",
      "|-------------------------|\n",
      "\n",
      " \n",
      "Total Observations in Table:  1671 \n",
      "\n",
      " \n",
      "             | Actual \n",
      "   Predicted |       ham |      spam | Row Total | \n",
      "-------------|-----------|-----------|-----------|\n",
      "         ham |      1382 |       119 |      1501 | \n",
      "             |     0.921 |     0.079 |     0.898 | \n",
      "             |     0.955 |     0.531 |           | \n",
      "-------------|-----------|-----------|-----------|\n",
      "        spam |        65 |       105 |       170 | \n",
      "             |     0.382 |     0.618 |     0.102 | \n",
      "             |     0.045 |     0.469 |           | \n",
      "-------------|-----------|-----------|-----------|\n",
      "Column Total |      1447 |       224 |      1671 | \n",
      "             |     0.866 |     0.134 |           | \n",
      "-------------|-----------|-----------|-----------|\n",
      "\n",
      " \n"
     ]
    }
   ],
   "source": [
    "CrossTable(pred_svm,test$spam,prop.chisq = FALSE, chisq = FALSE,prop.t = FALSE,dnn = c(\"Predicted\", \"Actual\"))"
   ]
  },
  {
   "cell_type": "markdown",
   "metadata": {},
   "source": [
    "The SVM Model performs very nicely in classifying ham messages as ham but it lacks in classifying spam messages as spam as we can draw that conclusion from the cross table where 119 spam messages are classified as ham and this is a huge drawback of this model when dealing with this dataset"
   ]
  },
  {
   "cell_type": "markdown",
   "metadata": {},
   "source": [
    "#### Decision Tree Model"
   ]
  },
  {
   "cell_type": "code",
   "execution_count": 77,
   "metadata": {},
   "outputs": [
    {
     "name": "stdout",
     "output_type": "stream",
     "text": [
      "\n",
      " \n",
      "   Cell Contents\n",
      "|-------------------------|\n",
      "|                       N |\n",
      "|           N / Row Total |\n",
      "|           N / Col Total |\n",
      "|-------------------------|\n",
      "\n",
      " \n",
      "Total Observations in Table:  1671 \n",
      "\n",
      " \n",
      "             | Actual \n",
      "   Predicted |       ham |      spam | Row Total | \n",
      "-------------|-----------|-----------|-----------|\n",
      "         ham |      1368 |       120 |      1488 | \n",
      "             |     0.919 |     0.081 |     0.890 | \n",
      "             |     0.945 |     0.536 |           | \n",
      "-------------|-----------|-----------|-----------|\n",
      "        spam |        79 |       104 |       183 | \n",
      "             |     0.432 |     0.568 |     0.110 | \n",
      "             |     0.055 |     0.464 |           | \n",
      "-------------|-----------|-----------|-----------|\n",
      "Column Total |      1447 |       224 |      1671 | \n",
      "             |     0.866 |     0.134 |           | \n",
      "-------------|-----------|-----------|-----------|\n",
      "\n",
      " \n"
     ]
    }
   ],
   "source": [
    "CrossTable(pred,test$spam,prop.chisq = FALSE, chisq = FALSE,prop.t = FALSE,dnn = c(\"Predicted\", \"Actual\"))"
   ]
  },
  {
   "cell_type": "markdown",
   "metadata": {},
   "source": [
    "The Decision Tree Model performs very nicely in classifying ham messages as ham but it lacks in classifying spam messages as spam as we can draw that conclusion from the cross table where 120 spam messages are classified as ham and this is a huge drawback of this model when dealing with this dataset"
   ]
  },
  {
   "cell_type": "markdown",
   "metadata": {},
   "source": [
    "#### Logistic Regression Model"
   ]
  },
  {
   "cell_type": "code",
   "execution_count": 106,
   "metadata": {},
   "outputs": [
    {
     "name": "stdout",
     "output_type": "stream",
     "text": [
      "\n",
      " \n",
      "   Cell Contents\n",
      "|-------------------------|\n",
      "|                       N |\n",
      "|           N / Row Total |\n",
      "|           N / Col Total |\n",
      "|-------------------------|\n",
      "\n",
      " \n",
      "Total Observations in Table:  1671 \n",
      "\n",
      " \n",
      "             | Actual \n",
      "   Predicted |       ham |      spam | Row Total | \n",
      "-------------|-----------|-----------|-----------|\n",
      "       FALSE |      1424 |       180 |      1604 | \n",
      "             |     0.888 |     0.112 |     0.960 | \n",
      "             |     0.984 |     0.804 |           | \n",
      "-------------|-----------|-----------|-----------|\n",
      "        TRUE |        23 |        44 |        67 | \n",
      "             |     0.343 |     0.657 |     0.040 | \n",
      "             |     0.016 |     0.196 |           | \n",
      "-------------|-----------|-----------|-----------|\n",
      "Column Total |      1447 |       224 |      1671 | \n",
      "             |     0.866 |     0.134 |           | \n",
      "-------------|-----------|-----------|-----------|\n",
      "\n",
      " \n"
     ]
    }
   ],
   "source": [
    "CrossTable(p>0.5,test$spam,prop.chisq = FALSE, chisq = FALSE,prop.t = FALSE,dnn = c(\"Predicted\", \"Actual\"))"
   ]
  },
  {
   "cell_type": "markdown",
   "metadata": {},
   "source": [
    "The Logistic Regression Model performs badly in classifying spam messages as spam as we can draw that conclusion from the cross table where 180 spam messages are classified as ham and this is a huge drawback of this model when dealing with this dataset"
   ]
  },
  {
   "cell_type": "markdown",
   "metadata": {},
   "source": [
    "# Conclusion "
   ]
  },
  {
   "cell_type": "markdown",
   "metadata": {},
   "source": [
    "#### The model best suited for classifing this kind of data i.e text messages is Naive Bayes as it not only classifies the ham messages correctly but it classifies  the spam messages correctly too with 97 percent accuracy which cannot be observed while evaluating other model so it is best to use Naive Bayes for this classification."
   ]
  },
  {
   "cell_type": "code",
   "execution_count": null,
   "metadata": {},
   "outputs": [],
   "source": [
    "keyword to associate with spam,attribute (label lottery prize ,special offer,banking(keywords baaki drop ))\n",
    "*deep.kumar@dituniversity.edu.in*"
   ]
  }
 ],
 "metadata": {
  "kernelspec": {
   "display_name": "R",
   "language": "R",
   "name": "ir"
  },
  "language_info": {
   "codemirror_mode": "r",
   "file_extension": ".r",
   "mimetype": "text/x-r-source",
   "name": "R",
   "pygments_lexer": "r",
   "version": "3.6.1"
  }
 },
 "nbformat": 4,
 "nbformat_minor": 4
}
